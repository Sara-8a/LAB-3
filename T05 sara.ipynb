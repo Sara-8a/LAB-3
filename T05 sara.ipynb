{
 "cells": [
  {
   "cell_type": "markdown",
   "id": "e620e276-e749-4c12-bc3d-982d182e80c7",
   "metadata": {},
   "source": [
    "# T05 - Motor Trend Car Road Tests"
   ]
  },
  {
   "cell_type": "markdown",
   "id": "1b89e547-3ecb-4d0a-bb3b-6274e247e125",
   "metadata": {},
   "source": [
    "Sara Hernandez Ochoa \n"
   ]
  },
  {
   "cell_type": "markdown",
   "id": "06321006-b320-4470-9921-90410310c4bb",
   "metadata": {},
   "source": [
    "## Cargar datos y librerias "
   ]
  },
  {
   "cell_type": "code",
   "execution_count": 1,
   "id": "41b41920-f8c3-4f34-966a-8a543e0de950",
   "metadata": {},
   "outputs": [
    {
     "data": {
      "text/html": [
       "<div>\n",
       "<style scoped>\n",
       "    .dataframe tbody tr th:only-of-type {\n",
       "        vertical-align: middle;\n",
       "    }\n",
       "\n",
       "    .dataframe tbody tr th {\n",
       "        vertical-align: top;\n",
       "    }\n",
       "\n",
       "    .dataframe thead th {\n",
       "        text-align: right;\n",
       "    }\n",
       "</style>\n",
       "<table border=\"1\" class=\"dataframe\">\n",
       "  <thead>\n",
       "    <tr style=\"text-align: right;\">\n",
       "      <th></th>\n",
       "      <th>model</th>\n",
       "      <th>mpg</th>\n",
       "      <th>cyl</th>\n",
       "      <th>disp</th>\n",
       "      <th>hp</th>\n",
       "      <th>drat</th>\n",
       "      <th>wt</th>\n",
       "      <th>qsec</th>\n",
       "      <th>vs</th>\n",
       "      <th>am</th>\n",
       "      <th>gear</th>\n",
       "      <th>carb</th>\n",
       "    </tr>\n",
       "  </thead>\n",
       "  <tbody>\n",
       "    <tr>\n",
       "      <th>0</th>\n",
       "      <td>Mazda RX4</td>\n",
       "      <td>21.0</td>\n",
       "      <td>6</td>\n",
       "      <td>160.0</td>\n",
       "      <td>110</td>\n",
       "      <td>3.90</td>\n",
       "      <td>2.620</td>\n",
       "      <td>16.46</td>\n",
       "      <td>0</td>\n",
       "      <td>1</td>\n",
       "      <td>4</td>\n",
       "      <td>4</td>\n",
       "    </tr>\n",
       "    <tr>\n",
       "      <th>1</th>\n",
       "      <td>Mazda RX4 Wag</td>\n",
       "      <td>21.0</td>\n",
       "      <td>6</td>\n",
       "      <td>160.0</td>\n",
       "      <td>110</td>\n",
       "      <td>3.90</td>\n",
       "      <td>2.875</td>\n",
       "      <td>17.02</td>\n",
       "      <td>0</td>\n",
       "      <td>1</td>\n",
       "      <td>4</td>\n",
       "      <td>4</td>\n",
       "    </tr>\n",
       "    <tr>\n",
       "      <th>2</th>\n",
       "      <td>Datsun 710</td>\n",
       "      <td>22.8</td>\n",
       "      <td>4</td>\n",
       "      <td>108.0</td>\n",
       "      <td>93</td>\n",
       "      <td>3.85</td>\n",
       "      <td>2.320</td>\n",
       "      <td>18.61</td>\n",
       "      <td>1</td>\n",
       "      <td>1</td>\n",
       "      <td>4</td>\n",
       "      <td>1</td>\n",
       "    </tr>\n",
       "    <tr>\n",
       "      <th>3</th>\n",
       "      <td>Hornet 4 Drive</td>\n",
       "      <td>21.4</td>\n",
       "      <td>6</td>\n",
       "      <td>258.0</td>\n",
       "      <td>110</td>\n",
       "      <td>3.08</td>\n",
       "      <td>3.215</td>\n",
       "      <td>19.44</td>\n",
       "      <td>1</td>\n",
       "      <td>0</td>\n",
       "      <td>3</td>\n",
       "      <td>1</td>\n",
       "    </tr>\n",
       "    <tr>\n",
       "      <th>4</th>\n",
       "      <td>Hornet Sportabout</td>\n",
       "      <td>18.7</td>\n",
       "      <td>8</td>\n",
       "      <td>360.0</td>\n",
       "      <td>175</td>\n",
       "      <td>3.15</td>\n",
       "      <td>3.440</td>\n",
       "      <td>17.02</td>\n",
       "      <td>0</td>\n",
       "      <td>0</td>\n",
       "      <td>3</td>\n",
       "      <td>2</td>\n",
       "    </tr>\n",
       "  </tbody>\n",
       "</table>\n",
       "</div>"
      ],
      "text/plain": [
       "               model   mpg  cyl   disp   hp  drat     wt   qsec  vs  am  gear  \\\n",
       "0          Mazda RX4  21.0    6  160.0  110  3.90  2.620  16.46   0   1     4   \n",
       "1      Mazda RX4 Wag  21.0    6  160.0  110  3.90  2.875  17.02   0   1     4   \n",
       "2         Datsun 710  22.8    4  108.0   93  3.85  2.320  18.61   1   1     4   \n",
       "3     Hornet 4 Drive  21.4    6  258.0  110  3.08  3.215  19.44   1   0     3   \n",
       "4  Hornet Sportabout  18.7    8  360.0  175  3.15  3.440  17.02   0   0     3   \n",
       "\n",
       "   carb  \n",
       "0     4  \n",
       "1     4  \n",
       "2     1  \n",
       "3     1  \n",
       "4     2  "
      ]
     },
     "execution_count": 1,
     "metadata": {},
     "output_type": "execute_result"
    }
   ],
   "source": [
    "import pandas as pd\n",
    "from sklearn.linear_model import LinearRegression, Ridge\n",
    "from sklearn.model_selection import train_test_split\n",
    "from sklearn.metrics import r2_score\n",
    "df = pd.read_excel(\"Motor Trend Car Road Tests.xlsx\")\n",
    "df.head()\n"
   ]
  },
  {
   "cell_type": "markdown",
   "id": "7efa9c19-5133-41cc-af26-a507907ac9f9",
   "metadata": {},
   "source": [
    "## Preparar datos"
   ]
  },
  {
   "cell_type": "code",
   "execution_count": 2,
   "id": "e814c2a0-11f5-4db3-9537-ebe8f995ee4c",
   "metadata": {},
   "outputs": [],
   "source": [
    "data = df.drop(columns=['model']).dropna()\n",
    "\n",
    "for c in data.columns:\n",
    "    data[c] = pd.to_numeric(data[c], errors='coerce')\n"
   ]
  },
  {
   "cell_type": "markdown",
   "id": "727b7089-6227-44a1-99af-376620bae6b9",
   "metadata": {},
   "source": [
    "## Ejercicio 1.1 (mpg como salida, todo numérico)"
   ]
  },
  {
   "cell_type": "code",
   "execution_count": 3,
   "id": "fa608d8d-fbd3-46c3-87ec-88aa14b5c670",
   "metadata": {},
   "outputs": [
    {
     "name": "stdout",
     "output_type": "stream",
     "text": [
      "R² completo: 0.869\n",
      "Intercepto: 12.303374155996273\n"
     ]
    },
    {
     "data": {
      "text/plain": [
       "cyl    -0.111440\n",
       "disp    0.013335\n",
       "hp     -0.021482\n",
       "drat    0.787111\n",
       "wt     -3.715304\n",
       "qsec    0.821041\n",
       "vs      0.317763\n",
       "am      2.520227\n",
       "gear    0.655413\n",
       "carb   -0.199419\n",
       "dtype: float64"
      ]
     },
     "execution_count": 3,
     "metadata": {},
     "output_type": "execute_result"
    }
   ],
   "source": [
    "X = data.drop(columns=['mpg'])\n",
    "y = data['mpg']\n",
    "\n",
    "modelo = LinearRegression().fit(X, y)\n",
    "print(\"R² completo:\", round(r2_score(y, modelo.predict(X)), 4))\n",
    "print(\"Intercepto:\", modelo.intercept_)\n",
    "\n",
    "betas = pd.Series(modelo.coef_, index=X.columns)\n",
    "betas\n"
   ]
  },
  {
   "cell_type": "markdown",
   "id": "9c02d814-e7f6-4e62-9335-16439f293312",
   "metadata": {},
   "source": [
    "El modelo explica 86.9% de la variación en mpg. Factores como mayor peso y caballos reducen rendimiento, mientras que drat, gear y transmisión manual lo aumentan."
   ]
  },
  {
   "cell_type": "markdown",
   "id": "e7ee671c-1692-4709-aa0e-95625ae1fd21",
   "metadata": {},
   "source": [
    "## Split 40% train / 60% test + regularización Ridge"
   ]
  },
  {
   "cell_type": "code",
   "execution_count": 4,
   "id": "399921f8-df8b-45d8-9f7b-f897b751ff06",
   "metadata": {},
   "outputs": [
    {
     "name": "stdout",
     "output_type": "stream",
     "text": [
      "R² train: 0.9992\n",
      "R² test : 0.2639\n",
      "alpha= 0.01: R² train=0.999, R² test=0.277\n",
      "alpha=  0.1: R² train=0.997, R² test=0.289\n",
      "alpha=    1: R² train=0.987, R² test=0.368\n",
      "alpha=   10: R² train=0.930, R² test=0.497\n",
      "alpha=  100: R² train=0.838, R² test=0.489\n"
     ]
    }
   ],
   "source": [
    "X_train, X_test, y_train, y_test = train_test_split(X, y, train_size=0.4, random_state=0)\n",
    "\n",
    "lin = LinearRegression().fit(X_train, y_train)\n",
    "print(\"R² train:\", round(r2_score(y_train, lin.predict(X_train)),4))\n",
    "print(\"R² test :\", round(r2_score(y_test, lin.predict(X_test)),4))\n",
    "\n",
    "# Ridge con varios alphas\n",
    "for a in [0.01, 0.1, 1, 10, 100]:\n",
    "    ridge = Ridge(alpha=a).fit(X_train, y_train)\n",
    "    print(f\"alpha={a:>5}: R² train={r2_score(y_train, ridge.predict(X_train)):.3f},\",\n",
    "          f\"R² test={r2_score(y_test, ridge.predict(X_test)):.3f}\")\n"
   ]
  },
  {
   "cell_type": "markdown",
   "id": "a6eb4e9f-fb50-4323-bf62-0cde80e261be",
   "metadata": {},
   "source": [
    "El modelo sin regularización sobreajusta (train muy alto, test muy bajo). Con mayor alpha, el ajuste en train baja pero la prueba mejora, mostrando que la regularización L2 reduce el sobreajuste y generaliza mejor."
   ]
  },
  {
   "cell_type": "markdown",
   "id": "3e97545d-1de8-4848-a3fd-dccbd8ec91a3",
   "metadata": {},
   "source": [
    "## Ejercicio 1.2 (qsec como salida, todo numérico)"
   ]
  },
  {
   "cell_type": "code",
   "execution_count": 5,
   "id": "a373800f-eedb-454e-adee-df96384a0fdd",
   "metadata": {},
   "outputs": [
    {
     "name": "stdout",
     "output_type": "stream",
     "text": [
      "R² completo: 0.8747\n"
     ]
    },
    {
     "data": {
      "text/plain": [
       "mpg     0.069048\n",
       "cyl    -0.362678\n",
       "disp   -0.007501\n",
       "hp     -0.001563\n",
       "drat   -0.131064\n",
       "wt      1.496332\n",
       "vs      0.970035\n",
       "am     -0.901186\n",
       "gear   -0.201285\n",
       "carb   -0.273598\n",
       "dtype: float64"
      ]
     },
     "execution_count": 5,
     "metadata": {},
     "output_type": "execute_result"
    }
   ],
   "source": [
    "X2 = data.drop(columns=['qsec'])\n",
    "y2 = data['qsec']\n",
    "\n",
    "modelo2 = LinearRegression().fit(X2, y2)\n",
    "print(\"R² completo:\", round(r2_score(y2, modelo2.predict(X2)), 4))\n",
    "\n",
    "betas2 = pd.Series(modelo2.coef_, index=X2.columns)\n",
    "betas2\n"
   ]
  },
  {
   "cell_type": "markdown",
   "id": "ad12c274-443c-4e3b-915e-8bfe63faf198",
   "metadata": {},
   "source": [
    "El modelo explica 87.5% de la variación en qsec. Un mayor peso y motores en línea (vs=1) aumentan el tiempo, mientras que más cilindros, potencia o marchas tienden a reducirlo."
   ]
  },
  {
   "cell_type": "markdown",
   "id": "85e3207d-27eb-44ed-88bc-965a9d149217",
   "metadata": {},
   "source": [
    "## Train-test y Ridge para qsec"
   ]
  },
  {
   "cell_type": "code",
   "execution_count": 6,
   "id": "ee915b90-f1cd-445a-b3c8-f9cd9c889654",
   "metadata": {},
   "outputs": [
    {
     "name": "stdout",
     "output_type": "stream",
     "text": [
      "R² train: 0.9975\n",
      "R² test : 0.3432\n",
      "alpha= 0.01: R² train=0.997, R² test=0.409\n",
      "alpha=  0.1: R² train=0.993, R² test=0.611\n",
      "alpha=    1: R² train=0.941, R² test=0.690\n",
      "alpha=   10: R² train=0.741, R² test=0.493\n",
      "alpha=  100: R² train=0.640, R² test=0.392\n"
     ]
    }
   ],
   "source": [
    "X2_train, X2_test, y2_train, y2_test = train_test_split(X2, y2, train_size=0.4, random_state=0)\n",
    "\n",
    "lin2 = LinearRegression().fit(X2_train, y2_train)\n",
    "print(\"R² train:\", round(r2_score(y2_train, lin2.predict(X2_train)),4))\n",
    "print(\"R² test :\", round(r2_score(y2_test, lin2.predict(X2_test)),4))\n",
    "\n",
    "for a in [0.01, 0.1, 1, 10, 100]:\n",
    "    ridge2 = Ridge(alpha=a).fit(X2_train, y2_train)\n",
    "    print(f\"alpha={a:>5}: R² train={r2_score(y2_train, ridge2.predict(X2_train)):.3f},\",\n",
    "          f\"R² test={r2_score(y2_test, ridge2.predict(X2_test)):.3f}\")\n"
   ]
  },
  {
   "cell_type": "markdown",
   "id": "8575d4ce-4612-4f42-b03e-41ee5899d49b",
   "metadata": {},
   "source": [
    "El modelo inicial sobreajusta; con α ≈ 1 se mejora la generalización, aumentando R² en test sin perder mucho en train."
   ]
  },
  {
   "cell_type": "markdown",
   "id": "b9fbba18-7b51-476a-882f-424c91e124a5",
   "metadata": {},
   "source": [
    "## Ejercicio 2.1 (mpg con dummies en cyl, gear y carb)"
   ]
  },
  {
   "cell_type": "code",
   "execution_count": 7,
   "id": "11ed46de-133c-4a8d-95cc-8ec40b92e10c",
   "metadata": {},
   "outputs": [
    {
     "name": "stdout",
     "output_type": "stream",
     "text": [
      "R² completo: 0.8931\n"
     ]
    },
    {
     "data": {
      "text/plain": [
       "carb_8    7.250411\n",
       "carb_6    4.477569\n",
       "carb_3    2.999639\n",
       "gear_5    2.528396\n",
       "vs        1.930851\n",
       "am        1.212116\n",
       "drat      1.182830\n",
       "gear_4    1.114355\n",
       "carb_4    1.091423\n",
       "qsec      0.367845\n",
       "disp      0.035546\n",
       "hp       -0.070507\n",
       "cyl_8    -0.336163\n",
       "carb_2   -0.979354\n",
       "cyl_6    -2.648695\n",
       "wt       -4.529776\n",
       "dtype: float64"
      ]
     },
     "execution_count": 7,
     "metadata": {},
     "output_type": "execute_result"
    }
   ],
   "source": [
    "data3 = data.copy()\n",
    "X3 = pd.get_dummies(data3.drop(columns=['mpg']), columns=['cyl','gear','carb'], drop_first=True)\n",
    "y3 = data3['mpg']\n",
    "\n",
    "modelo3 = LinearRegression().fit(X3, y3)\n",
    "print(\"R² completo:\", round(r2_score(y3, modelo3.predict(X3)), 4))\n",
    "\n",
    "pd.Series(modelo3.coef_, index=X3.columns).sort_values(ascending=False)\n"
   ]
  },
  {
   "cell_type": "markdown",
   "id": "9cf29360-03c1-4068-af21-7935d672a8f3",
   "metadata": {},
   "source": [
    "El R² completo de 0.8931 indica que el modelo explica bien la variabilidad del mpg. Las variables más influyentes positivamente son carb_8, carb_6 y carb_3, mientras que wt y cyl_6 tienen el mayor efecto negativo sobre mpg."
   ]
  },
  {
   "cell_type": "markdown",
   "id": "6f7b7846-4a6b-4e48-9ea6-094e3cf9668b",
   "metadata": {},
   "source": [
    "## Train-test para mpg con dummies"
   ]
  },
  {
   "cell_type": "code",
   "execution_count": 8,
   "id": "7862cada-eee1-4074-9cb3-7ba72cfe17be",
   "metadata": {},
   "outputs": [
    {
     "name": "stdout",
     "output_type": "stream",
     "text": [
      "R² train: 1.0\n",
      "R² test : -0.1589\n"
     ]
    }
   ],
   "source": [
    "X3_train, X3_test, y3_train, y3_test = train_test_split(X3, y3, train_size=0.4, random_state=0)\n",
    "\n",
    "lin3 = LinearRegression().fit(X3_train, y3_train)\n",
    "print(\"R² train:\", round(r2_score(y3_train, lin3.predict(X3_train)),4))\n",
    "print(\"R² test :\", round(r2_score(y3_test, lin3.predict(X3_test)),4))\n"
   ]
  },
  {
   "cell_type": "markdown",
   "id": "dd627484-88e1-4628-88eb-831588435992",
   "metadata": {},
   "source": [
    "El modelo está completamente sobreajustado: predice perfectamente los datos de entrenamiento (R² train = 1.0), pero falla totalmente en el conjunto de prueba (R² test negativo), mostrando que no generaliza en absoluto."
   ]
  },
  {
   "cell_type": "markdown",
   "id": "1962bb69-b688-4eda-9db8-8b37fa12029d",
   "metadata": {},
   "source": [
    "## Ejercicio 2.2 (qsec con dummies) "
   ]
  },
  {
   "cell_type": "code",
   "execution_count": 9,
   "id": "90d2b2fe-e3fe-460a-838a-c20b78c339c7",
   "metadata": {},
   "outputs": [
    {
     "name": "stdout",
     "output_type": "stream",
     "text": [
      "R² completo: 0.9083\n"
     ]
    },
    {
     "data": {
      "text/plain": [
       "gear_4    1.332282\n",
       "wt        0.810472\n",
       "vs        0.265732\n",
       "gear_5    0.182317\n",
       "drat      0.107866\n",
       "mpg       0.027741\n",
       "disp      0.003531\n",
       "hp       -0.002066\n",
       "carb_3   -0.229304\n",
       "carb_2   -0.834413\n",
       "cyl_6    -1.104343\n",
       "carb_8   -1.332317\n",
       "carb_6   -1.565241\n",
       "am       -1.694294\n",
       "carb_4   -1.947034\n",
       "cyl_8    -2.966901\n",
       "dtype: float64"
      ]
     },
     "execution_count": 9,
     "metadata": {},
     "output_type": "execute_result"
    }
   ],
   "source": [
    "X4 = pd.get_dummies(data.drop(columns=['qsec']), columns=['cyl','gear','carb'], drop_first=True)\n",
    "y4 = data['qsec']\n",
    "\n",
    "modelo4 = LinearRegression().fit(X4, y4)\n",
    "print(\"R² completo:\", round(r2_score(y4, modelo4.predict(X4)), 4))\n",
    "\n",
    "pd.Series(modelo4.coef_, index=X4.columns).sort_values(ascending=False)\n"
   ]
  },
  {
   "cell_type": "markdown",
   "id": "444e916c-1862-487f-b5ed-c7e3f9d9af1a",
   "metadata": {},
   "source": [
    "El modelo tiene un R² alto (0.9083), mostrando buen ajuste general. Variables como gear_4, wt y vs aumentan el mpg, mientras que cyl_8, carb_4 y am tienen el mayor efecto negativo."
   ]
  },
  {
   "cell_type": "markdown",
   "id": "c7452af3-4a79-4619-bc74-3e6f5ade1ec7",
   "metadata": {},
   "source": [
    "## Train-test para qsec con dummies"
   ]
  },
  {
   "cell_type": "code",
   "execution_count": 10,
   "id": "ad603362-9db6-45b2-b627-c1555cd5f879",
   "metadata": {},
   "outputs": [
    {
     "name": "stdout",
     "output_type": "stream",
     "text": [
      "R² train: 1.0\n",
      "R² test : 0.6419\n"
     ]
    }
   ],
   "source": [
    "X4_train, X4_test, y4_train, y4_test = train_test_split(X4, y4, train_size=0.4, random_state=0)\n",
    "\n",
    "lin4 = LinearRegression().fit(X4_train, y4_train)\n",
    "print(\"R² train:\", round(r2_score(y4_train, lin4.predict(X4_train)),4))\n",
    "print(\"R² test :\", round(r2_score(y4_test, lin4.predict(X4_test)),4))\n"
   ]
  },
  {
   "cell_type": "markdown",
   "id": "13130e2b-e89a-4070-95de-fb1a565273f0",
   "metadata": {},
   "source": [
    "El modelo ajusta perfectamente los datos de entrenamiento (R² train = 1.0) y muestra una generalización moderada en prueba (R² test = 0.6419), indicando que aunque captura bien los patrones, aún podría sobreajustarse ligeramente."
   ]
  },
  {
   "cell_type": "markdown",
   "id": "f9785bcc-3ad9-45fb-ab9a-5577c8458cc3",
   "metadata": {},
   "source": [
    "## Comparaciones finales (3.1 y 3.2)"
   ]
  },
  {
   "cell_type": "code",
   "execution_count": 11,
   "id": "09f8e41d-03b8-429d-ad1c-331b7ed0acab",
   "metadata": {},
   "outputs": [
    {
     "name": "stdout",
     "output_type": "stream",
     "text": [
      "Comparación mpg: 1.1 vs 2.1\n",
      "R² sin dummies: 0.869\n",
      "R² con dummies: 0.8931\n",
      "\n",
      "Comparación qsec: 1.2 vs 2.2\n",
      "R² sin dummies: 0.8747\n",
      "R² con dummies: 0.9083\n"
     ]
    }
   ],
   "source": [
    "print(\"Comparación mpg: 1.1 vs 2.1\")\n",
    "print(\"R² sin dummies:\", round(r2_score(y, modelo.predict(X)),4))\n",
    "print(\"R² con dummies:\", round(r2_score(y3, modelo3.predict(X3)),4))\n",
    "\n",
    "print(\"\\nComparación qsec: 1.2 vs 2.2\")\n",
    "print(\"R² sin dummies:\", round(r2_score(y2, modelo2.predict(X2)),4))\n",
    "print(\"R² con dummies:\", round(r2_score(y4, modelo4.predict(X4)),4))\n"
   ]
  },
  {
   "cell_type": "markdown",
   "id": "7cde8c58-73d3-4c61-b696-4fca5fc7b674",
   "metadata": {},
   "source": [
    "Agregar variables dummies mejora ligeramente el modelo en ambos casos: para mpg el R² sube de 0.869 a 0.8931, y para qsec de 0.8747 a 0.9083, indicando que las categorías capturan información adicional que ayuda a explicar la variabilidad de los datos."
   ]
  },
  {
   "cell_type": "code",
   "execution_count": null,
   "id": "611e222e-82f6-4623-bc1f-b0bcdb8c553c",
   "metadata": {},
   "outputs": [],
   "source": []
  }
 ],
 "metadata": {
  "kernelspec": {
   "display_name": "Python 3 (ipykernel)",
   "language": "python",
   "name": "python3"
  },
  "language_info": {
   "codemirror_mode": {
    "name": "ipython",
    "version": 3
   },
   "file_extension": ".py",
   "mimetype": "text/x-python",
   "name": "python",
   "nbconvert_exporter": "python",
   "pygments_lexer": "ipython3",
   "version": "3.12.7"
  }
 },
 "nbformat": 4,
 "nbformat_minor": 5
}
