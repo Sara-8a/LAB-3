{
 "cells": [
  {
   "cell_type": "markdown",
   "id": "de16ac05-1760-49ad-b40c-327a96a8e846",
   "metadata": {},
   "source": [
    "# Laboratorio de regresión - 3"
   ]
  },
  {
   "cell_type": "markdown",
   "id": "1db0fb70-ca43-47f7-bbfd-fd06ca0e25f2",
   "metadata": {},
   "source": [
    "### Significancia de factores"
   ]
  },
  {
   "cell_type": "markdown",
   "id": "6043c593-39d1-405c-b92e-487314170cf6",
   "metadata": {},
   "source": [
    "|                |   |\r\n",
    ":----------------|---|\r\n",
    "| **Nombre**     Sara Hernandez Ochoa|   |\r\n",
    "| **Fecha**     25/08/2025 |   |\r\n",
    "| **Expediente*750733* |   |"
   ]
  },
  {
   "cell_type": "markdown",
   "id": "2cfabde4-866e-4f00-8a37-9d57f2bebbb6",
   "metadata": {},
   "source": [
    "Descarga el archivo de publicidad y carga los datos (Advertising.csv)."
   ]
  },
  {
   "cell_type": "code",
   "execution_count": 87,
   "id": "07527ab6-7c18-48b5-9779-d5e6e5da289b",
   "metadata": {},
   "outputs": [],
   "source": [
    "import pandas as pd\n",
    "import numpy as np  \n",
    "from sklearn.linear_model import LinearRegression\n",
    "from scipy import stats"
   ]
  },
  {
   "cell_type": "code",
   "execution_count": 88,
   "id": "f76bcb16-5b02-42aa-846f-fb890b34af26",
   "metadata": {},
   "outputs": [],
   "source": [
    "read = pd.read_csv('Advertising.csv')"
   ]
  },
  {
   "cell_type": "code",
   "execution_count": 89,
   "id": "0769d0e1-47cc-4ccc-9066-3f3a06dbe283",
   "metadata": {},
   "outputs": [
    {
     "data": {
      "text/html": [
       "<div>\n",
       "<style scoped>\n",
       "    .dataframe tbody tr th:only-of-type {\n",
       "        vertical-align: middle;\n",
       "    }\n",
       "\n",
       "    .dataframe tbody tr th {\n",
       "        vertical-align: top;\n",
       "    }\n",
       "\n",
       "    .dataframe thead th {\n",
       "        text-align: right;\n",
       "    }\n",
       "</style>\n",
       "<table border=\"1\" class=\"dataframe\">\n",
       "  <thead>\n",
       "    <tr style=\"text-align: right;\">\n",
       "      <th></th>\n",
       "      <th>Unnamed: 0</th>\n",
       "      <th>TV</th>\n",
       "      <th>radio</th>\n",
       "      <th>newspaper</th>\n",
       "      <th>sales</th>\n",
       "    </tr>\n",
       "  </thead>\n",
       "  <tbody>\n",
       "    <tr>\n",
       "      <th>0</th>\n",
       "      <td>1</td>\n",
       "      <td>230.1</td>\n",
       "      <td>37.8</td>\n",
       "      <td>69.2</td>\n",
       "      <td>22.1</td>\n",
       "    </tr>\n",
       "    <tr>\n",
       "      <th>1</th>\n",
       "      <td>2</td>\n",
       "      <td>44.5</td>\n",
       "      <td>39.3</td>\n",
       "      <td>45.1</td>\n",
       "      <td>10.4</td>\n",
       "    </tr>\n",
       "    <tr>\n",
       "      <th>2</th>\n",
       "      <td>3</td>\n",
       "      <td>17.2</td>\n",
       "      <td>45.9</td>\n",
       "      <td>69.3</td>\n",
       "      <td>9.3</td>\n",
       "    </tr>\n",
       "    <tr>\n",
       "      <th>3</th>\n",
       "      <td>4</td>\n",
       "      <td>151.5</td>\n",
       "      <td>41.3</td>\n",
       "      <td>58.5</td>\n",
       "      <td>18.5</td>\n",
       "    </tr>\n",
       "    <tr>\n",
       "      <th>4</th>\n",
       "      <td>5</td>\n",
       "      <td>180.8</td>\n",
       "      <td>10.8</td>\n",
       "      <td>58.4</td>\n",
       "      <td>12.9</td>\n",
       "    </tr>\n",
       "  </tbody>\n",
       "</table>\n",
       "</div>"
      ],
      "text/plain": [
       "   Unnamed: 0     TV  radio  newspaper  sales\n",
       "0           1  230.1   37.8       69.2   22.1\n",
       "1           2   44.5   39.3       45.1   10.4\n",
       "2           3   17.2   45.9       69.3    9.3\n",
       "3           4  151.5   41.3       58.5   18.5\n",
       "4           5  180.8   10.8       58.4   12.9"
      ]
     },
     "execution_count": 89,
     "metadata": {},
     "output_type": "execute_result"
    }
   ],
   "source": [
    "read.head()\n"
   ]
  },
  {
   "cell_type": "markdown",
   "id": "0f626410-76cc-411a-9b87-bcc76bda6d35",
   "metadata": {},
   "source": [
    "- TV: Dinero invertido en TV"
   ]
  },
  {
   "cell_type": "markdown",
   "id": "6260ead2-2864-44e7-8dd1-509b7d3a3337",
   "metadata": {},
   "source": [
    "- Nuestra primera meta debe ser determinar si hay evidencia en los datos de que haya una asociación entre estas variables. Si existe esa asociación, podremos decir que la publicidad realmente tiene impacto en las ventas y vale la pena analizar qué medio es más efectivo."
   ]
  },
  {
   "cell_type": "markdown",
   "id": "cb3f1c79-027e-4af9-b61b-82e4a45df0bb",
   "metadata": {},
   "source": [
    "Realiza una regresión lineal:\n",
    "\n",
    "$$ \\text{ventas} \\approx \\beta_0 + (\\beta_1)(\\text{TV})$$\n",
    "es un aproximado de: \n",
    "$$ \\text{ventas} \\ = f(x)+ E $$"
   ]
  },
  {
   "cell_type": "markdown",
   "id": "2ef0832f-f7e7-43c6-b779-5121857f0eb0",
   "metadata": {},
   "source": [
    "# TV"
   ]
  },
  {
   "cell_type": "code",
   "execution_count": 117,
   "id": "b7f11512-1a7e-4cda-869d-c6eb6847564c",
   "metadata": {},
   "outputs": [
    {
     "name": "stdout",
     "output_type": "stream",
     "text": [
      "Intercepto (beta_0): 7.0326\n",
      "Coeficiente TV (beta_1): 0.0475\n"
     ]
    }
   ],
   "source": [
    "df_TV = pd.read_csv('Advertising.csv')\n",
    "X_TV = df[['TV']]\n",
    "y_TV = df['sales']\n",
    "\n",
    "lr = LinearRegression()\n",
    "lr.fit(X_TV, y_TV)\n",
    "\n",
    "print(f'Intercepto (beta_0): {lr.intercept_:.4f}')\n",
    "print(f'Coeficiente TV (beta_1): {lr.coef_[0]:.4f}')"
   ]
  },
  {
   "cell_type": "markdown",
   "id": "a84ba655-7b09-482a-992f-02380dd54209",
   "metadata": {},
   "source": [
    "### Verificando la precisión de nuestros coeficientes estimados"
   ]
  },
  {
   "cell_type": "markdown",
   "id": "30733e87-7be2-477f-84c2-d430ad1a2a5d",
   "metadata": {},
   "source": [
    "Recuerda que en el mundo real hay ruidos y errores de medición. Siempre se asume que la verdadera relación entre $X$ y $Y$ es $$Y = \\beta_0 + \\beta_1 X + \\epsilon$$"
   ]
  },
  {
   "cell_type": "markdown",
   "id": "af33c415-790e-4e28-bcd5-8f94ac545822",
   "metadata": {},
   "source": [
    "Se asume que el término de error es independiente de $X$ (el error siempre es el mismo sin importar el valor de $X$). Este modelo describe a la *línea de regresión de la población*, que es la mejor aproximación de la verdadera relación entre $X$ y $Y$. Cuando usamos mínimos cuadrados encontramos la *línea de mínimos cuadrados*."
   ]
  },
  {
   "cell_type": "markdown",
   "id": "86d80b2d-2c96-4fa7-8348-29e8215e4e2e",
   "metadata": {},
   "source": [
    "- **¿Cuál es la diferencia entre población y muestra?**"
   ]
  },
  {
   "cell_type": "markdown",
   "id": "ec345b97-255d-45a2-95ea-487212a02644",
   "metadata": {},
   "source": [
    "Los parámetros (β₀, β₁) son fijos y representan la verdadera relación. En este caso sería “todas las posibles combinaciones” de presupuesto en publicidad y las ventas que se generan, aunque no la conocemos directamente."
   ]
  },
  {
   "cell_type": "markdown",
   "id": "51486e54-82e7-4794-bbde-b6f6ea10691c",
   "metadata": {},
   "source": [
    "En la muestra, los coeficientes que calculamos (intercepto y pendiente) son estimadores de esos parámetros. La muestra es lo que sí tenemos en el archivo, los gastos en TV, radio, newspaper y ventas. La usamos para estimar la relación de la población con la regresión, entendiendo que los coeficientes son aproximaciones."
   ]
  },
  {
   "cell_type": "markdown",
   "id": "ea74ba36-845f-44fe-89e4-442b66f44d9d",
   "metadata": {},
   "source": [
    "- **¿Cuál crees que sea la diferencia entre hacer una regresión con todos los datos de la población y una muestra de ella?**"
   ]
  },
  {
   "cell_type": "markdown",
   "id": "1563051a-01a3-4a4e-bff2-f12c7d113b15",
   "metadata": {},
   "source": [
    "Si hiciera la regresión con todos los datos de la población, obtendría los coeficientes reales que muestran la relación exacta entre publicidad y ventas. Sería la verdad completa, sin margen de error, y la línea de regresión reflejaría exactamente cómo influyen TV, radio y newspaper en las ventas."
   ]
  },
  {
   "cell_type": "markdown",
   "id": "cfea860e-24bb-4e94-b93a-a86c8c1dca8a",
   "metadata": {},
   "source": [
    "Si hago la regresión con solo la muestra, los coeficientes son aproximaciones. Pueden cambiar un poco según qué datos estén en la muestra, y siempre hay un margen de error porque no estoy viendo todos los casos posibles. ´Por eso son importantes los intervalos de confianza, para saber que tan confiables son."
   ]
  },
  {
   "cell_type": "markdown",
   "id": "c123335b-5299-4f2e-ac8e-4b1e40754221",
   "metadata": {},
   "source": [
    "La línea de regresión de la población no se puede observar. El concepto de comparar estas líneas es una extensión natural del acercamiento estadístico estándar de usar información de una muestra para estimar características de una población grande."
   ]
  },
  {
   "cell_type": "markdown",
   "id": "7fff6312-57a0-4c9f-aaa9-f22f6294c71c",
   "metadata": {},
   "source": [
    "### Error estandar:\n",
    "\n",
    "$$ \\text{Var}(\\hat{\\mu})=\\text{SE}(\\hat{\\mu})^2 = \\frac{\\sigma^2}{n} $$\n",
    "\n",
    "Donde $\\sigma$ es la desviación estándar de cada una de las observaciones $y_i$ de $Y$. El error estándar nos dice la cantidad promedio que el estimado difiere del valor verdadero. Podemos ver en la fórmula que entre más observaciones tengamos el error se hace más pequeño. Las fórmulas para errores estándar de $\\hat{\\beta_0}$ y $\\hat{\\beta_1}$ son:\n",
    "\n",
    "$$ \\text{SE}(\\hat{\\beta_0})^2 = \\sigma^2 [\\frac{1}{n} + \\frac{\\bar{x}^2}{\\sum_{i=1}^n (x_i - \\bar{x})^2}]$$\n",
    "\n",
    "$$ \\text{SE}(\\hat{\\beta_1})^2 = \\frac{\\sigma^2}{\\sum_{i=1}^n (x_i - \\bar{x})^2}$$\n",
    "\n",
    "$$ \\sigma^2 = \\text{Var}(\\epsilon) = \\text{RSE}^2 = \\frac{\\text{RSS}}{n-p}$$"
   ]
  },
  {
   "cell_type": "markdown",
   "id": "661b6d7c-2274-462f-92ff-0e7be8ca742d",
   "metadata": {},
   "source": [
    "Para que estas fórmulas sean validas asumimos que los errores $\\epsilon_i$ tienen varianza común $\\sigma^2$ y que no están correlacionados.\n",
    "\n",
    "Calcula los errores estándar de los coeficientes"
   ]
  },
  {
   "cell_type": "code",
   "execution_count": 118,
   "id": "07843e5d-fa42-4266-9dda-7701a5700f07",
   "metadata": {},
   "outputs": [],
   "source": [
    "pd.read_csv('Advertising.csv')\n",
    "X_TV = df['TV'].values\n",
    "y_TV = df['sales'].values\n",
    "n_TV = len(X_TV)\n",
    "p_TV = 2"
   ]
  },
  {
   "cell_type": "code",
   "execution_count": 119,
   "id": "c0f7beeb-3e18-419f-b0f1-29b47569ca11",
   "metadata": {},
   "outputs": [],
   "source": [
    "lr.fit(X_TV.reshape(-1, 1), y_TV)\n",
    "beta_0_TV = lr.intercept_\n",
    "beta_1_TV = lr.coef_[0]"
   ]
  },
  {
   "cell_type": "code",
   "execution_count": 120,
   "id": "b3a49811-31de-4ffb-bb1b-fab271b55b56",
   "metadata": {},
   "outputs": [
    {
     "name": "stdout",
     "output_type": "stream",
     "text": [
      "(RSS): 2102.5306\n"
     ]
    }
   ],
   "source": [
    "yTV_pred = lr.predict(X_TV.reshape(-1, 1))\n",
    "RSS_TV = sum((y_TV - yTV_pred) ** 2)\n",
    "print(f'(RSS): {RSS_TV:.4f}')"
   ]
  },
  {
   "cell_type": "markdown",
   "id": "e164b9c7-469a-4c83-ad91-c3f841134797",
   "metadata": {},
   "source": [
    "2102.5306 indica que las predicciones del modelo todavía tienen errores acumulados respecto a las ventas reales."
   ]
  },
  {
   "cell_type": "code",
   "execution_count": 121,
   "id": "92987590-0084-4f67-ad84-5e3fe83d6890",
   "metadata": {
    "scrolled": true
   },
   "outputs": [
    {
     "name": "stdout",
     "output_type": "stream",
     "text": [
      "RSE: 10.6188\n"
     ]
    }
   ],
   "source": [
    "RSE_TV = (RSS_TV / (n_TV - p_TV))\n",
    "print(f'RSE: {RSE_TV:.4f}')"
   ]
  },
  {
   "cell_type": "markdown",
   "id": "bfe7d8d5-b031-44bc-89d5-ebf0873059e0",
   "metadata": {},
   "source": [
    "Cada predicción se desvía unas 10.62 unidades de las ventas reales"
   ]
  },
  {
   "cell_type": "code",
   "execution_count": 122,
   "id": "18ba579c-3ad7-4e66-a7b6-688bba6fcb61",
   "metadata": {},
   "outputs": [
    {
     "name": "stdout",
     "output_type": "stream",
     "text": [
      "SE(beta_0): 0.4578\n"
     ]
    }
   ],
   "source": [
    "x_2_TV = np.mean(X_TV)*np.mean(X_TV)\n",
    "x_mean_TV = np.mean(X_TV)\n",
    "SE_TV = (RSE_TV *(1/n_TV + (x_2_TV / sum((X_TV - x_mean_TV)**2))))**0.5\n",
    "print(f'SE(beta_0): {SE_TV:.4f}')"
   ]
  },
  {
   "cell_type": "markdown",
   "id": "4194a571-46e4-4288-89d1-22d29a36e556",
   "metadata": {},
   "source": [
    "Son precisas porque los errores estándar son muy pequeños en comparación con los valores de los coeficientes. El intercepto es 7.0326 y su SE es 0.4578"
   ]
  },
  {
   "cell_type": "code",
   "execution_count": 123,
   "id": "f7980ee6-166e-44b6-9e41-de3304fd6927",
   "metadata": {},
   "outputs": [
    {
     "name": "stdout",
     "output_type": "stream",
     "text": [
      "SE(beta_1): 0.0027\n"
     ]
    }
   ],
   "source": [
    "SE_beta_1_TV = (RSE_TV / sum((X_TV - x_mean_TV)**2))**0.5\n",
    "print(f'SE(beta_1): {SE_beta_1_TV:.4f}')"
   ]
  },
  {
   "cell_type": "markdown",
   "id": "6ac79ca4-3deb-4378-90b2-41fc72548cb3",
   "metadata": {},
   "source": [
    "Mientras que el coeficiente de TV es 0.0475 y su SE es 0.0027."
   ]
  },
  {
   "cell_type": "markdown",
   "id": "48c35dfc-08b6-4dd6-a4b4-e3a1582812bf",
   "metadata": {},
   "source": [
    "Esto significa que las estimaciones del modelo son muy precisas. Si hicieramos otra vez el análisis con otras muestras, los valores de β₀ y β₁ apenas variarían, por lo que el modelo confía mucho en que el efecto de TV sobre las ventas está bien estimado."
   ]
  },
  {
   "cell_type": "code",
   "execution_count": 124,
   "id": "8b69c8ed-e935-4b2b-becc-cdf98ffa4edf",
   "metadata": {},
   "outputs": [
    {
     "name": "stdout",
     "output_type": "stream",
     "text": [
      "Intercepto (beta_0): 7.0326\n",
      "Coeficiente TV (beta_1): 0.0475\n"
     ]
    }
   ],
   "source": [
    "lr = LinearRegression()\n",
    "lr.fit(X_TV.reshape(-1, 1), y_TV)\n",
    "beta_0_TV = lr.intercept_   \n",
    "beta_1_TV = lr.coef_[0]    \n",
    "print(f'Intercepto (beta_0): {beta_0_TV:.4f}')\n",
    "print(f'Coeficiente TV (beta_1): {beta_1_TV:.4f}') "
   ]
  },
  {
   "cell_type": "markdown",
   "id": "9c2711ec-2380-4bce-ac68-007378e7b76c",
   "metadata": {},
   "source": [
    "Estos errores se pueden usar para calcular intervalos de confianza. Un intervalo de confianza del $95\\%$ se define como un rango de valores en el cuál se encuentra el desconocido valor verdadero con un $95\\%$ de probabilidad.\n",
    "\n",
    "Otra forma de verlo es que si tomamos muestras repetidas y construimos un intervalo de confianza para cada una, el $95\\%$ de los intervalos creados van a contener el valor verdadero. Para la regresión el intervalo de confianza del $95\\%$ toma la forma:\n",
    "\n",
    "$$ \\hat{\\beta_j} \\pm 2\\text{SE}(\\hat{\\beta_j})$$"
   ]
  },
  {
   "cell_type": "markdown",
   "id": "a71aed31-b058-4217-8d45-9686b9611511",
   "metadata": {},
   "source": [
    "Calcula los intervalos de confianza para los coeficientes estimados:"
   ]
  },
  {
   "cell_type": "code",
   "execution_count": 125,
   "id": "8b725487-4e48-471d-9c5a-547e7e176334",
   "metadata": {},
   "outputs": [
    {
     "name": "stdout",
     "output_type": "stream",
     "text": [
      "Intervalo de confianza beta_0: (6.1169, 7.9483)\n",
      "Intervalo de confianza beta_1: (0.0422, 0.0529)\n"
     ]
    }
   ],
   "source": [
    "beta_0_lower_TV = beta_0_TV - 2*SE_TV\n",
    "beta_0_upper_TV = beta_0_TV + 2*SE_TV    \n",
    "print(f'Intervalo de confianza beta_0: ({beta_0_lower_TV:.4f}, {beta_0_upper_TV:.4f})')\n",
    "beta_1_lower_TV = beta_1_TV - 2*SE_beta_1_TV  \n",
    "beta_1_upper_TV = beta_1_TV + 2*SE_beta_1_TV   \n",
    "print(f'Intervalo de confianza beta_1: ({beta_1_lower_TV:.4f}, {beta_1_upper_TV:.4f})')"
   ]
  },
  {
   "cell_type": "markdown",
   "id": "da3b3100-fb87-42de-9e74-75c72464bb7b",
   "metadata": {},
   "source": [
    "Los errores estándar también se usan para realizar pruebas de hipótesis. La prueba de hipótesis más común es probar la hipótesis nula de:\n",
    "\n",
    "$$ H_0: \\text{No hay relación entre } X \\text{ y } Y \\ \\ \\ \\ (\\beta_1=0)$$"
   ]
  },
  {
   "cell_type": "markdown",
   "id": "a1ef288e-55fe-45fb-bb86-4bef282b5947",
   "metadata": {},
   "source": [
    "contra la hipótesis alternativa:\n",
    "$$ H_0: \\text{Hay alguna relación entre } X \\text{ y } Y \\ \\ \\ (\\beta_1 \\neq 0)$$"
   ]
  },
  {
   "cell_type": "markdown",
   "id": "eaf0c27a-4a67-450c-b2ce-a65958938c25",
   "metadata": {},
   "source": [
    "- **Explica con tus palabras el significado de la hipótesis nula y la hipótesis alternativa.**"
   ]
  },
  {
   "cell_type": "markdown",
   "id": "41f7cb88-88a5-462f-84ec-6019911ebb64",
   "metadata": {},
   "source": [
    "La H0 Dice que no hay relación entre la variable independiente (X) y la variable dependiente (Y). Significa que gastar en publicidad no afecta las ventas; el coeficiente 𝛽1 sería igual a 0."
   ]
  },
  {
   "cell_type": "markdown",
   "id": "a2e36b97-9347-4b49-a7f2-e02448dfe25d",
   "metadata": {},
   "source": [
    "La Hi dice que sí hay relación entre X y Y. Osea que invertir en publicidad sí tiene un efecto en las ventas, y 𝛽1 sería diferente de 0."
   ]
  },
  {
   "cell_type": "markdown",
   "id": "cc6404ea-89ae-45f0-9935-67dbd53b78c6",
   "metadata": {},
   "source": [
    "Para probal la hipótesis nula debemos determinar si nuestro estimado $\\hat{\\beta_1}$ de $\\beta_1$ está lo suficientemente alejado de cero para que podamos decir con confianza que este valor no es cero. \n",
    "\n",
    "¿Qué tan lejos? Depende de qué tanta confianza tengamos en el estimado encontrado. Si nuestro error estándar es pequeño y nuestro estimado está alejado de cero podríamos decir que hay muy poca probabilidad de que el valor verdadero sea 0. En cambio, si nuestro error estándar es grande y nuestro estimado está muy cerca de cero, entonces podrías ser que el valor verdadero sea cero y que no haya relación entre las variables."
   ]
  },
  {
   "cell_type": "markdown",
   "id": "96161b14-6a16-41ea-aec8-0394f729447d",
   "metadata": {},
   "source": [
    "Se calcula un *estadístico t* dado por\n",
    "$$ t = \\frac{\\hat{\\beta_j} - \\mu}{\\text{SE}(\\hat{\\beta_j})} $$"
   ]
  },
  {
   "cell_type": "markdown",
   "id": "4f04296d-854b-4fcb-9c79-6b23b516f2f3",
   "metadata": {},
   "source": [
    "donde $\\mu$ es el valor contra el que queremos probar.\n",
    "\n",
    "Calcula el estadístico t para tus coeficientes estimados, usando como referencia la prueba de hipótesis."
   ]
  },
  {
   "cell_type": "code",
   "execution_count": 126,
   "id": "68f15e0c-6c64-4ff5-a03c-8d72b639db7f",
   "metadata": {},
   "outputs": [
    {
     "name": "stdout",
     "output_type": "stream",
     "text": [
      "t0: 15.3603\n",
      "t1: 17.6676\n"
     ]
    }
   ],
   "source": [
    "t0_TV = beta_0_TV / SE_TV\n",
    "t1_TV = beta_1_TV / SE_beta_1_TV \n",
    "print(f't0: {t0_TV:.4f}')\n",
    "print(f't1: {t1_TV:.4f}')"
   ]
  },
  {
   "cell_type": "markdown",
   "id": "7737b123-f4c5-403c-92f2-4800c79107d9",
   "metadata": {},
   "source": [
    "La distribución t tiene forma de campana y se parece bastante a la distribución normal cuando $n > 30$. Ya sólo es cuestión de calcular la probabilidad de observar cualquier número tal que su valor absoluto sea igual o mayor que el valor absoluto del estadístico t calculado. En otras palabras:\n",
    "$$ P(|x| \\geq |t|) $$"
   ]
  },
  {
   "cell_type": "markdown",
   "id": "6bb2ccf1-b4b1-4c0c-a15b-d4fdd2f4552a",
   "metadata": {},
   "source": [
    "A esta probabilidad la llamamos *p-value*. Un *p-value* pequeño indica que es poco probable que exista por puro azar una relación significativa entre predictor y respuesta, en caso de que no haya una asociación real entre predictor y respuesta. En otras palabras, el *p-value* te dice la probabilidad de que parezca que hay relación cuando no la hay.\n",
    "\n",
    "Si el *p-value* es pequeño, inferimos que sí hay una asociación entre el predictor y la respuesta, y **rechazamos la hipótesis nula**.\n",
    "  "
   ]
  },
  {
   "cell_type": "markdown",
   "id": "c7f17065-a71d-4322-8782-3e805df65d29",
   "metadata": {},
   "source": [
    "¿Qué tan pequeño? Depende de la aplicación. Un valor muy común es del $5\\%$.\n",
    "\n",
    "Utiliza el siguiente código para calcular el *p-value* para tus coeficientes\n",
    "\n",
    "`from scipy import stats`\n",
    "\n",
    "`p_bj = 2*(1 - stats.t.cdf(np.abs(t_bj), n-p))`"
   ]
  },
  {
   "cell_type": "code",
   "execution_count": 127,
   "id": "7a542d04-f9cb-4ea2-9af1-ca79d1539860",
   "metadata": {},
   "outputs": [
    {
     "name": "stdout",
     "output_type": "stream",
     "text": [
      "E1 p-value para b0 es: 0.0000\n",
      "E1 p-value para b1 es: 0.0000\n"
     ]
    }
   ],
   "source": [
    "p_0_TV = 2 * (1 - stats.t.cdf(np.abs(t0_TV), n_TV-p_TV))\n",
    "p_1_TV = 2 * (1 - stats.t.cdf(np.abs(t1_TV), n_TV-p_TV))\n",
    "\n",
    "print(f'E1 p-value para b0 es: {p_0_TV:.4f}')\n",
    "print(f'E1 p-value para b1 es: {p_1_TV:.4f}')"
   ]
  },
  {
   "cell_type": "markdown",
   "id": "2be9ad17-db40-405e-b88a-d0af8a05aacf",
   "metadata": {},
   "source": [
    "- **¿Se rechaza la hipótesis nula? ¿Qué significa?**"
   ]
  },
  {
   "cell_type": "markdown",
   "id": "261f861e-f191-47f8-9510-7444ab416756",
   "metadata": {},
   "source": [
    "Como el p value es menor que 0.05, se rechaza la H0, osea que si hay suficiente evidencia de que el dinero que se invierte en la pubicidad de TV si influye en las ventas. Cada dólar extra invertido en TV aumenta, en promedio, 0.0475 unidades de ventas."
   ]
  },
  {
   "cell_type": "markdown",
   "id": "3a994d1a-6187-491c-a518-7971cebe3c0a",
   "metadata": {},
   "source": [
    "Realiza otras dos regresiones. Ya tienes hecha la regresión de ventas dado el gasto en publicidad de TV. Realiza la regresión para gastos en radio y gastos en periódico. Organiza las respuestas para que debajo de esta celda se tenga:\n",
    "- Título de regresión\n",
    "- Coeficientes estimados\n",
    "- Errores estándar de los coeficientes\n",
    "- Intervalos de confianza\n",
    "- Estadísticos t\n",
    "- p-values\n",
    "- Observaciones"
   ]
  },
  {
   "cell_type": "markdown",
   "id": "d7404cc4-d193-43ef-8b75-a48ccf6a0811",
   "metadata": {},
   "source": [
    "# NEWSPAPER"
   ]
  },
  {
   "cell_type": "markdown",
   "id": "2d4c19fa-770d-4404-a7d3-e6ec7c1e7c75",
   "metadata": {},
   "source": [
    "$$ H_0: \\text{No hay relación entre } X \\text{ y } Y \\ \\ \\ \\ (\\beta_1=0)$$\n",
    "$$ H_0: \\text{Hay alguna relación entre } X \\text{ y } Y \\ \\ \\ (\\beta_1 \\neq 0)$$"
   ]
  },
  {
   "cell_type": "markdown",
   "id": "3e9c1b50-1f89-4590-b895-d1f6d4ba3cee",
   "metadata": {},
   "source": [
    "### COEFICIENTES ESTIMADOS"
   ]
  },
  {
   "cell_type": "code",
   "execution_count": 156,
   "id": "cbfaed5f-f044-43e4-90b7-29144d8b8f0f",
   "metadata": {},
   "outputs": [
    {
     "name": "stdout",
     "output_type": "stream",
     "text": [
      "Intercepto (beta_0): 12.3514\n",
      "Coeficiente NEWS (beta_1): 0.0547\n"
     ]
    }
   ],
   "source": [
    "df_NEWS = pd.read_csv('Advertising.csv')\n",
    "X_NEWS = df[['newspaper']]\n",
    "y_NEWS = df['sales']\n",
    "\n",
    "lr = LinearRegression()\n",
    "lr.fit(X_NEWS, y_NEWS)\n",
    "\n",
    "print(f'Intercepto (beta_0): {lr.intercept_:.4f}')\n",
    "print(f'Coeficiente NEWS (beta_1): {lr.coef_[0]:.4f}')"
   ]
  },
  {
   "cell_type": "markdown",
   "id": "47d47afd-ca24-4c44-a72e-6c7f6080cc6b",
   "metadata": {},
   "source": [
    "12.3514 ventas si no se invierte en periodico y 0.0547 indica el incremento promedio de ventas por unidad gastada en periódico."
   ]
  },
  {
   "cell_type": "code",
   "execution_count": 157,
   "id": "5d65ed89-7878-416a-a412-e83aa4a3a390",
   "metadata": {},
   "outputs": [],
   "source": [
    "pd.read_csv('Advertising.csv')\n",
    "X_NEWS = df['newspaper'].values\n",
    "y_NEWS = df['sales'].values\n",
    "n_NEWS = len(X_NEWS)\n",
    "p_NEWS = 2"
   ]
  },
  {
   "cell_type": "code",
   "execution_count": 158,
   "id": "666adea3-86ed-49a4-84e0-3ad1670354f8",
   "metadata": {},
   "outputs": [],
   "source": [
    "lr.fit(X_NEWS.reshape(-1, 1), y_NEWS)\n",
    "beta_0_NEWS = lr.intercept_\n",
    "beta_1_NEWS = lr.coef_[0]"
   ]
  },
  {
   "cell_type": "markdown",
   "id": "4d65837c-fceb-4be0-a887-058c641f4c48",
   "metadata": {},
   "source": [
    "### ERRORES ESTANDAR"
   ]
  },
  {
   "cell_type": "code",
   "execution_count": 159,
   "id": "fbf092b6-6c39-452b-8008-e74c924878c9",
   "metadata": {},
   "outputs": [
    {
     "name": "stdout",
     "output_type": "stream",
     "text": [
      "(RSS): 5134.8045\n"
     ]
    }
   ],
   "source": [
    "yNEWS_pred = lr.predict(X_NEWS.reshape(-1, 1))\n",
    "RSS_NEWS = sum((y_NEWS - yNEWS_pred) ** 2)\n",
    "print(f'(RSS): {RSS_NEWS:.4f}')"
   ]
  },
  {
   "cell_type": "markdown",
   "id": "838f5005-1004-4b2d-b1af-e438c34a1427",
   "metadata": {},
   "source": [
    "Muestra que las predicciones del modelo se alejan bastante de las ventas reales, acumulando un error grande en total."
   ]
  },
  {
   "cell_type": "code",
   "execution_count": 160,
   "id": "7f605a35-8b43-430a-acaf-3bc65ceb39b5",
   "metadata": {},
   "outputs": [
    {
     "name": "stdout",
     "output_type": "stream",
     "text": [
      "RSE: 25.9334\n"
     ]
    }
   ],
   "source": [
    "RSE_NEWS = (RSS_NEWS / (n_NEWS - p_NEWS))\n",
    "print(f'RSE: {RSE_NEWS:.4f}')"
   ]
  },
  {
   "cell_type": "markdown",
   "id": "1d94f59f-09da-4709-91e5-5f0ba4510449",
   "metadata": {},
   "source": [
    "Indica que, en promedio, cada predicción se desvía unas 25.93 unidades de las ventas reales. Esto significa que, aunque el coeficiente de Newspaper es significativo, el modelo por sí solo no logra ajustar muy bien los datos y las predicciones siguen teniendo bastante variabilidad."
   ]
  },
  {
   "cell_type": "code",
   "execution_count": 161,
   "id": "c2f4bfef-48af-4268-9f25-369d809d3f4b",
   "metadata": {},
   "outputs": [
    {
     "name": "stdout",
     "output_type": "stream",
     "text": [
      "SE(beta_0): 0.6214\n"
     ]
    }
   ],
   "source": [
    "x_2_NEWS = np.mean(X_NEWS)*np.mean(X_NEWS)\n",
    "x_mean_NEWS = np.mean(X_NEWS)\n",
    "SE_NEWS = (RSE_NEWS *(1/n_NEWS + (x_2_NEWS / sum((X_NEWS - x_mean_NEWS)**2))))**0.5\n",
    "print(f'SE(beta_0): {SE_NEWS:.4f}')"
   ]
  },
  {
   "cell_type": "code",
   "execution_count": 162,
   "id": "33a0a44b-a482-4976-82b8-98fafeaa4fba",
   "metadata": {},
   "outputs": [
    {
     "name": "stdout",
     "output_type": "stream",
     "text": [
      "SE(beta_1): 0.0166\n"
     ]
    }
   ],
   "source": [
    "SE_beta_1_NEWS = (RSE_NEWS / sum((X_NEWS - x_mean_NEWS)**2))**0.5\n",
    "print(f'SE(beta_1): {SE_beta_1_NEWS:.4f}')"
   ]
  },
  {
   "cell_type": "markdown",
   "id": "a5b754d3-0a63-4531-8a43-42da5517ce4e",
   "metadata": {},
   "source": [
    "Las estimaciones del intercepto y del coeficiente son relativamente estables. El efecto de NEWSPAPER es estable "
   ]
  },
  {
   "cell_type": "markdown",
   "id": "a7982f0e-1d6b-4c9c-8d15-cf61915489c0",
   "metadata": {},
   "source": [
    "### INTERVALOS DE CONFIANZA"
   ]
  },
  {
   "cell_type": "code",
   "execution_count": 163,
   "id": "a7deb784-6c17-4d61-b84e-0984f28213a7",
   "metadata": {},
   "outputs": [
    {
     "name": "stdout",
     "output_type": "stream",
     "text": [
      "Intercepto (beta_0): 12.3514\n",
      "Coeficiente NEWS (beta_1): 0.0547\n"
     ]
    }
   ],
   "source": [
    "lr = LinearRegression()\n",
    "lr.fit(X_NEWS.reshape(-1, 1), y_NEWS)\n",
    "beta_0_NEWS = lr.intercept_   \n",
    "beta_1_NEWS = lr.coef_[0]    \n",
    "print(f'Intercepto (beta_0): {beta_0_NEWS:.4f}')\n",
    "print(f'Coeficiente NEWS (beta_1): {beta_1_NEWS:.4f}') "
   ]
  },
  {
   "cell_type": "markdown",
   "id": "fee4fc09-a9ac-47fa-afbb-05873b0ea531",
   "metadata": {},
   "source": [
    "El modelo esta bien, ya que nos dio la misma cantidad que la primera parte."
   ]
  },
  {
   "cell_type": "code",
   "execution_count": 164,
   "id": "dde34fcf-ce95-4ce4-b456-00056762e98d",
   "metadata": {},
   "outputs": [
    {
     "name": "stdout",
     "output_type": "stream",
     "text": [
      "Intervalo de confianza beta_0: (11.1086, 13.5942)\n",
      "Intervalo de confianza beta_1: (0.0215, 0.0878)\n"
     ]
    }
   ],
   "source": [
    "beta_0_lower_NEWS = beta_0_NEWS - 2*SE_NEWS\n",
    "beta_0_upper_NEWS = beta_0_NEWS + 2*SE_NEWS    \n",
    "print(f'Intervalo de confianza beta_0: ({beta_0_lower_NEWS:.4f}, {beta_0_upper_NEWS:.4f})')\n",
    "beta_1_lower_NEWS = beta_1_NEWS - 2*SE_beta_1_NEWS  \n",
    "beta_1_upper_NEWS = beta_1_NEWS + 2*SE_beta_1_NEWS   \n",
    "print(f'Intervalo de confianza beta_1: ({beta_1_lower_NEWS:.4f}, {beta_1_upper_NEWS:.4f})')"
   ]
  },
  {
   "cell_type": "markdown",
   "id": "95423608-787c-4cd5-b200-3fd244c07731",
   "metadata": {},
   "source": [
    "El intercepto se encuentra entre 11.11 y 13.59, lo que marca el nivel promedio de ventas cuando no hay inversión en newspaper. El coeficiente de newspaper está entre 0.0215 y 0.0878, lo que significa que el impacto real de la publicidad en periódico sobre las ventas se mueve dentro de ese rango."
   ]
  },
  {
   "cell_type": "markdown",
   "id": "81455aee-9f57-4223-919f-6da29e212e14",
   "metadata": {},
   "source": [
    "### ESTADÍSTICOS T"
   ]
  },
  {
   "cell_type": "code",
   "execution_count": 165,
   "id": "4d1eeb3e-609b-4561-b705-b61112689087",
   "metadata": {},
   "outputs": [
    {
     "name": "stdout",
     "output_type": "stream",
     "text": [
      "t0: 19.8761\n",
      "t1: 3.2996\n"
     ]
    }
   ],
   "source": [
    "t0_NEWS = beta_0_NEWS / SE_NEWS\n",
    "t1_NEWS = beta_1_NEWS / SE_beta_1_NEWS \n",
    "print(f't0: {t0_NEWS:.4f}')\n",
    "print(f't1: {t1_NEWS:.4f}')"
   ]
  },
  {
   "cell_type": "markdown",
   "id": "25777727-83c6-4bd7-8757-0d2cebd16c00",
   "metadata": {},
   "source": [
    "Indican cuánto se alejan los coeficientes de cero en términos de error estándar."
   ]
  },
  {
   "cell_type": "markdown",
   "id": "e548163d-2709-423d-9b3b-97195776efd1",
   "metadata": {},
   "source": [
    "### P-VALUES"
   ]
  },
  {
   "cell_type": "code",
   "execution_count": 166,
   "id": "43386c52-3d31-4100-9f55-0e55d964b895",
   "metadata": {},
   "outputs": [
    {
     "name": "stdout",
     "output_type": "stream",
     "text": [
      "E1 p-value para b0 es: 0.0000\n",
      "E1 p-value para b1 es: 0.0011\n"
     ]
    }
   ],
   "source": [
    "p_0_NEWS = 2 * (1 - stats.t.cdf(np.abs(t0_NEWS), n_NEWS-p_NEWS))\n",
    "p_1_NEWS = 2 * (1 - stats.t.cdf(np.abs(t1_NEWS), n_NEWS-p_NEWS))\n",
    "\n",
    "print(f'E1 p-value para b0 es: {p_0_NEWS:.4f}')\n",
    "print(f'E1 p-value para b1 es: {p_1_NEWS:.4f}')"
   ]
  },
  {
   "cell_type": "markdown",
   "id": "bf52a831-585d-4625-a9a5-e712f136f2a0",
   "metadata": {},
   "source": [
    "### Observaciones"
   ]
  },
  {
   "cell_type": "markdown",
   "id": "7dedb876-e9ef-4060-89a8-a0006f190ff1",
   "metadata": {},
   "source": [
    "El p-value del coeficiente de Newspaper es 0.0011, menor que 0.05, lo que indica que  podemos rechazar la hipótesis nula. Por lo que hay evidencia de que el gasto en periódico influya en las ventas, aunque su efecto es pequeño (coeficiente 0.0547). "
   ]
  },
  {
   "cell_type": "markdown",
   "id": "f5f2c2bc-5d6e-4bea-ab8a-e8cb2ab1fd94",
   "metadata": {},
   "source": [
    "# RADIO"
   ]
  },
  {
   "cell_type": "markdown",
   "id": "243d99cc-3fa0-475e-a694-6b435b115fdf",
   "metadata": {},
   "source": [
    "$$ H_0: \\text{No hay relación entre } X \\text{ y } Y \\ \\ \\ \\ (\\beta_1=0)$$\n",
    "$$ H_0: \\text{Hay alguna relación entre } X \\text{ y } Y \\ \\ \\ (\\beta_1 \\neq 0)$$"
   ]
  },
  {
   "cell_type": "markdown",
   "id": "fc306268-343b-40d7-a490-b572d5c77c98",
   "metadata": {},
   "source": [
    "### COEFICIENTES ESTIMADOS"
   ]
  },
  {
   "cell_type": "code",
   "execution_count": 139,
   "id": "cba55561-4f1c-4d70-a79c-613f47b614a0",
   "metadata": {},
   "outputs": [
    {
     "name": "stdout",
     "output_type": "stream",
     "text": [
      "Intercepto (beta_0): 9.3116\n",
      "Coeficiente TV (beta_1): 0.2025\n"
     ]
    }
   ],
   "source": [
    "df_RA = pd.read_csv('Advertising.csv')\n",
    "X_RA = df[['radio']]\n",
    "y_RA = df['sales']\n",
    "\n",
    "lr = LinearRegression()\n",
    "lr.fit(X_RA, y_RA)\n",
    "\n",
    "print(f'Intercepto (beta_0): {lr.intercept_:.4f}')\n",
    "print(f'Coeficiente TV (beta_1): {lr.coef_[0]:.4f}')"
   ]
  },
  {
   "cell_type": "markdown",
   "id": "5de5ccb7-1652-4dcc-bf93-55624ac38e5b",
   "metadata": {},
   "source": [
    "El intercepto 9.3116 indica las ventas promedio sin invertir en radio, y el coeficiente muestra que cada unidad extra invertida en radio aumenta las ventas en promedio 0.2025 unidades."
   ]
  },
  {
   "cell_type": "code",
   "execution_count": 140,
   "id": "5aeec603-ef1c-410c-932a-446ceb72747b",
   "metadata": {},
   "outputs": [],
   "source": [
    "pd.read_csv('Advertising.csv')\n",
    "X_RA = df['radio'].values\n",
    "y_RA = df['sales'].values\n",
    "n_RA = len(X_RA)\n",
    "p_RA = 2"
   ]
  },
  {
   "cell_type": "code",
   "execution_count": 141,
   "id": "797e0326-2867-40d3-90eb-bd85971fbf01",
   "metadata": {},
   "outputs": [],
   "source": [
    "lr.fit(X_RA.reshape(-1, 1), y_RA)\n",
    "beta_0_RA = lr.intercept_\n",
    "beta_1_RA = lr.coef_[0]"
   ]
  },
  {
   "cell_type": "markdown",
   "id": "246d38c7-b8d8-4ead-93aa-a3190ece4da4",
   "metadata": {},
   "source": [
    "### ERRORES ESTANDAR"
   ]
  },
  {
   "cell_type": "code",
   "execution_count": 142,
   "id": "6c6bd135-42f5-42c0-998f-4fa8f050b174",
   "metadata": {},
   "outputs": [
    {
     "name": "stdout",
     "output_type": "stream",
     "text": [
      "(RSS): 3618.4795\n"
     ]
    }
   ],
   "source": [
    "yRA_pred = lr.predict(X_RA.reshape(-1, 1))\n",
    "RSS_RA = sum((y_RA - yRA_pred) ** 2)\n",
    "print(f'(RSS): {RSS_RA:.4f}')"
   ]
  },
  {
   "cell_type": "markdown",
   "id": "62a8ba80-a422-4817-b379-ccb39977c389",
   "metadata": {},
   "source": [
    "Muestra la suma de los errores al ajustar el modelo; mientras más pequeño, mejor se ajusta."
   ]
  },
  {
   "cell_type": "code",
   "execution_count": 143,
   "id": "6e5dc9de-b821-41b1-bb7a-2251084f11d3",
   "metadata": {},
   "outputs": [
    {
     "name": "stdout",
     "output_type": "stream",
     "text": [
      "RSE: 18.2751\n"
     ]
    }
   ],
   "source": [
    "RSE_RA = (RSS_RA / (n_RA - p_RA))\n",
    "print(f'RSE: {RSE_RA:.4f}')"
   ]
  },
  {
   "cell_type": "markdown",
   "id": "5dde081f-f93e-4637-9f08-d16e7b839dd4",
   "metadata": {},
   "source": [
    "Las ventas se desvían unas 18 unidades respecto a lo que predice el modelo."
   ]
  },
  {
   "cell_type": "code",
   "execution_count": 144,
   "id": "23ef6754-c877-4877-814d-ef3ec5b1a536",
   "metadata": {
    "scrolled": true
   },
   "outputs": [
    {
     "name": "stdout",
     "output_type": "stream",
     "text": [
      "SE(beta_0): 0.5629\n"
     ]
    }
   ],
   "source": [
    "x_2_RA = np.mean(X_RA)*np.mean(X_RA)\n",
    "x_mean_RA = np.mean(X_RA)\n",
    "SE_RA = (RSE_RA *(1/n_RA + (x_2_RA / sum((X_RA - x_mean_RA)**2))))**0.5\n",
    "print(f'SE(beta_0): {SE_RA:.4f}')"
   ]
  },
  {
   "cell_type": "markdown",
   "id": "b0237aed-6594-46c8-840b-84d4246b780a",
   "metadata": {},
   "source": [
    "Muestra que la estimación del intercepto es bastante precisa."
   ]
  },
  {
   "cell_type": "code",
   "execution_count": 145,
   "id": "58d885f1-df42-416d-8b5e-4ae217337b5a",
   "metadata": {},
   "outputs": [
    {
     "name": "stdout",
     "output_type": "stream",
     "text": [
      "SE(beta_1): 0.0204\n"
     ]
    }
   ],
   "source": [
    "SE_beta_1_RA = (RSE_RA / sum((X_RA - x_mean_RA)**2))**0.5\n",
    "print(f'SE(beta_1): {SE_beta_1_RA:.4f}')"
   ]
  },
  {
   "cell_type": "markdown",
   "id": "c84a6f98-20b3-46fc-8326-8585a0364354",
   "metadata": {},
   "source": [
    "Indica que la estimación del efecto de la radio sobre las ventas también es muy estable y con poca variabilidad."
   ]
  },
  {
   "cell_type": "markdown",
   "id": "4bbc9b2b-8af3-4a4a-a7bc-56423fd50707",
   "metadata": {},
   "source": [
    "Sabemos esto ya que cuando el SE es menor que el coeficiente la estimacion es confiable. "
   ]
  },
  {
   "cell_type": "markdown",
   "id": "5be95035-649f-41cb-9c15-ef607a50b340",
   "metadata": {},
   "source": [
    "### INTERVALOS DE CONFIANZA"
   ]
  },
  {
   "cell_type": "code",
   "execution_count": 146,
   "id": "cc5f5822-9340-4096-84f9-4eb16d281156",
   "metadata": {},
   "outputs": [
    {
     "name": "stdout",
     "output_type": "stream",
     "text": [
      "Intercepto (beta_0): 9.3116\n",
      "Coeficiente TV (beta_1): 0.2025\n"
     ]
    }
   ],
   "source": [
    "lr = LinearRegression()\n",
    "lr.fit(X_RA.reshape(-1, 1), y_RA)\n",
    "beta_0_RA = lr.intercept_   \n",
    "beta_1_RA = lr.coef_[0]    \n",
    "print(f'Intercepto (beta_0): {beta_0_RA:.4f}')\n",
    "print(f'Coeficiente TV (beta_1): {beta_1_RA:.4f}') "
   ]
  },
  {
   "cell_type": "markdown",
   "id": "b91814d5-590a-498e-9d4a-deeba892a45d",
   "metadata": {},
   "source": [
    "El modelo esta bien , ya que nos salio igual que la primera parte."
   ]
  },
  {
   "cell_type": "code",
   "execution_count": 147,
   "id": "ec494f86-8b49-4e7f-a6dd-798c92c5518a",
   "metadata": {
    "scrolled": true
   },
   "outputs": [
    {
     "name": "stdout",
     "output_type": "stream",
     "text": [
      "Intervalo de confianza beta_0: (8.1858, 10.4374)\n",
      "Intervalo de confianza beta_1: (0.1617, 0.2433)\n"
     ]
    }
   ],
   "source": [
    "beta_0_lower_RA = beta_0_RA - 2*SE_RA\n",
    "beta_0_upper_RA = beta_0_RA + 2*SE_RA    \n",
    "print(f'Intervalo de confianza beta_0: ({beta_0_lower_RA:.4f}, {beta_0_upper_RA:.4f})')\n",
    "beta_1_lower_RA = beta_1_RA - 2*SE_beta_1_RA  \n",
    "beta_1_upper_RA = beta_1_RA + 2*SE_beta_1_RA   \n",
    "print(f'Intervalo de confianza beta_1: ({beta_1_lower_RA:.4f}, {beta_1_upper_RA:.4f})')"
   ]
  },
  {
   "cell_type": "markdown",
   "id": "0e8ee885-f09f-4b50-9db3-55f0d3fe8372",
   "metadata": {},
   "source": [
    "El intervalo del intercepto está entre 8.19 y 10.44, lo que indica que el nivel base de ventas sin gasto en radio se mueve dentro de ese rango.\n",
    "El coeficiente de radio está entre 0.162 y 0.243, lo que confirma que el efecto de la publicidad en radio es positivo y bastante consistente: cada unidad invertida en radio aumenta las ventas en ese rango promedio."
   ]
  },
  {
   "cell_type": "markdown",
   "id": "34f8cd29-f273-43ec-a0f8-1599402a91b3",
   "metadata": {},
   "source": [
    "### ESTADÍSTICOS T"
   ]
  },
  {
   "cell_type": "code",
   "execution_count": 148,
   "id": "27989814-121f-4452-b42c-83ffb75281a7",
   "metadata": {
    "scrolled": true
   },
   "outputs": [
    {
     "name": "stdout",
     "output_type": "stream",
     "text": [
      "t0: 16.5422\n",
      "t1: 9.9208\n"
     ]
    }
   ],
   "source": [
    "t0_RA = beta_0_RA / SE_RA\n",
    "t1_RA = beta_1_RA / SE_beta_1_RA \n",
    "print(f't0: {t0_RA:.4f}')\n",
    "print(f't1: {t1_RA:.4f}')"
   ]
  },
  {
   "cell_type": "markdown",
   "id": "6e405f5a-ea5b-48b1-9a54-783e95560dcf",
   "metadata": {},
   "source": [
    "### P-VALUES"
   ]
  },
  {
   "cell_type": "code",
   "execution_count": 149,
   "id": "fc3573fb-aca8-485e-8bc2-0d006c386a39",
   "metadata": {},
   "outputs": [
    {
     "name": "stdout",
     "output_type": "stream",
     "text": [
      "E1 p-value para b0 es: 0.0000\n",
      "E1 p-value para b1 es: 0.0000\n"
     ]
    }
   ],
   "source": [
    "p_0_RA = 2 * (1 - stats.t.cdf(np.abs(t0_RA), n_RA-p_RA))\n",
    "p_1_RA = 2 * (1 - stats.t.cdf(np.abs(t1_RA), n_RA-p_RA))\n",
    "\n",
    "print(f'E1 p-value para b0 es: {p_0_RA:.4f}')\n",
    "print(f'E1 p-value para b1 es: {p_1_RA:.4f}')"
   ]
  },
  {
   "cell_type": "markdown",
   "id": "91e8fe21-28a8-486c-b230-6c1f3b0fde93",
   "metadata": {},
   "source": [
    "### Observaciones"
   ]
  },
  {
   "cell_type": "markdown",
   "id": "eafe0794-535e-4a69-8d31-9a5485a94c80",
   "metadata": {},
   "source": [
    "Se rechaza H₀ porque la evidencia indica que el coeficiente no es 0. La variable RADIO sí tiene un efecto positivo y significativo sobre la variable dependiente. Es decir, a medida que aumenta radio, también aumenta la respuesta."
   ]
  },
  {
   "cell_type": "markdown",
   "id": "556988ae-3656-428d-817b-76f9e1534f46",
   "metadata": {},
   "source": [
    "# REGRESION LINEAL MULTIPLE"
   ]
  },
  {
   "cell_type": "markdown",
   "id": "943698d8-7f84-4245-8be3-e4c8f34be5da",
   "metadata": {},
   "source": [
    "En lugar de hacer una regresión para cada factor independiente, quizás se puede extender el modelo para que tenga varios factores dentro:\n",
    "\n",
    "$$ Y = \\beta_0 + \\beta_1 X_1 + \\beta_2 X_2 + ... + \\beta_p X_p + \\epsilon $$\n",
    "\n",
    "Para nuestro ejemplo de publicidad:\n",
    "\n",
    "$$ \\text{sales} = \\beta_0 + \\beta_1 (\\text{TV}) + \\beta_2 (\\text{radio}) + \\beta_3 (\\text{newspaper}) + \\epsilon $$"
   ]
  },
  {
   "cell_type": "markdown",
   "id": "df8cd89a-0c25-4e1d-9213-292807e17ccf",
   "metadata": {},
   "source": [
    "Utiliza la librería `statsmodels` para realizar la regresión. Por defecto la librería statsmodels no toma en cuenta el intercepto ($\\beta_0$), por lo que se tendrá que agregar una columna de unos de tamaño *n* a la matriz X.\n",
    "\n",
    "`import statsmodels.api as sm`\n",
    "\n",
    "`ols = sm.OLS(Y, X)`\n",
    "\n",
    "`results = ols.fit()`\n",
    "\n",
    "`results.summary()`"
   ]
  },
  {
   "cell_type": "code",
   "execution_count": 169,
   "id": "a7a3bd74-0f56-4199-a327-278c3ec9919e",
   "metadata": {},
   "outputs": [],
   "source": [
    "import statsmodels.api as sm"
   ]
  },
  {
   "cell_type": "code",
   "execution_count": 170,
   "id": "e9c9f7ea-0b4c-4f54-922e-6d1222da5da5",
   "metadata": {},
   "outputs": [
    {
     "name": "stdout",
     "output_type": "stream",
     "text": [
      "                            OLS Regression Results                            \n",
      "==============================================================================\n",
      "Dep. Variable:                  sales   R-squared:                       0.897\n",
      "Model:                            OLS   Adj. R-squared:                  0.896\n",
      "Method:                 Least Squares   F-statistic:                     570.3\n",
      "Date:                Fri, 29 Aug 2025   Prob (F-statistic):           1.58e-96\n",
      "Time:                        23:25:19   Log-Likelihood:                -386.18\n",
      "No. Observations:                 200   AIC:                             780.4\n",
      "Df Residuals:                     196   BIC:                             793.6\n",
      "Df Model:                           3                                         \n",
      "Covariance Type:            nonrobust                                         \n",
      "==============================================================================\n",
      "                 coef    std err          t      P>|t|      [0.025      0.975]\n",
      "------------------------------------------------------------------------------\n",
      "const          2.9389      0.312      9.422      0.000       2.324       3.554\n",
      "TV             0.0458      0.001     32.809      0.000       0.043       0.049\n",
      "radio          0.1885      0.009     21.893      0.000       0.172       0.206\n",
      "newspaper     -0.0010      0.006     -0.177      0.860      -0.013       0.011\n",
      "==============================================================================\n",
      "Omnibus:                       60.414   Durbin-Watson:                   2.084\n",
      "Prob(Omnibus):                  0.000   Jarque-Bera (JB):              151.241\n",
      "Skew:                          -1.327   Prob(JB):                     1.44e-33\n",
      "Kurtosis:                       6.332   Cond. No.                         454.\n",
      "==============================================================================\n",
      "\n",
      "Notes:\n",
      "[1] Standard Errors assume that the covariance matrix of the errors is correctly specified.\n"
     ]
    }
   ],
   "source": [
    "X = df[[\"TV\", \"radio\", \"newspaper\"]]\n",
    "X = sm.add_constant(X)\n",
    "Y = df[\"sales\"]\n",
    "ols = sm.OLS(Y, X)\n",
    "results = ols.fit()\n",
    "print(results.summary())"
   ]
  },
  {
   "cell_type": "markdown",
   "id": "dfa69550-f3c1-42b0-8c62-3943a4c33715",
   "metadata": {},
   "source": [
    "- El modelo explica el 89.7% de la variación de los datos \n",
    "- Si no se invierte nada en publicidad, las ventas promedio seran 2.94\n",
    "- Cada dólar en TV aumenta las ventas en 0.046.\n",
    "- Cada dólar en radio aumenta las ventas en 0.189 (impacto más fuerte que TV).\n",
    "- El efecto es casi cero y no aporta al modelo.\n",
    "- TV: significativo, tiene efecto real en las ventas\n",
    "- Radio: Significativo, tiene efecto real en las ventas\n",
    "- Newspaper: No significativo, no tiene fecto real en las ventas, es irrelevante."
   ]
  },
  {
   "cell_type": "markdown",
   "id": "3898858d-5dda-42ae-b458-b5e7fcd2df76",
   "metadata": {},
   "source": [
    "### Referencia\n",
    "\n",
    "James, G., Witten, D., Hastie, T., Tibshirani, R.,, Taylor, J. (2023). An Introduction to Statistical Learning with Applications in Python. Cham: Springer. ISBN: 978-3-031-38746-3"
   ]
  },
  {
   "cell_type": "markdown",
   "id": "12cf969f-9da4-4a94-a0d2-e63bd9cb9386",
   "metadata": {},
   "source": [
    "# PREGUNTAS"
   ]
  },
  {
   "cell_type": "markdown",
   "id": "df0f403f-b246-4706-a4c6-5f17be224048",
   "metadata": {},
   "source": [
    "- **¿Qué diferencias puedes observar entre los *p-values* de una regresión múltiple y los encontrados en las regresiones simples? ¿Por qué crees que existen estas diferencias?**"
   ]
  },
  {
   "cell_type": "markdown",
   "id": "00f1e6d3-ed94-4260-a6b5-e6fe61b69c92",
   "metadata": {},
   "source": [
    "En las regresiones simples, cada p-value refleja la relación de una sola variable independiente con las ventas, sin considerar las demás. Por eso, tanto TV como radio y newspaper tenían sus efectos evaluados de forma aislada y cada uno contribuia con las ventas. "
   ]
  },
  {
   "cell_type": "markdown",
   "id": "0ee78097-1a27-4b92-acaf-9d9578a6bb75",
   "metadata": {},
   "source": [
    "En la regresión múltiple, los p-values cambian porque ahora se mide el efecto de cada variable mientras se controlan las otras. Por ejemplo, newspaper tenía un p-value bajo en la regresión simple, pero en la múltiple subió a 0.860, mostrando que cuando se consideran TV y radio, newspaper realmente no aporta a las ventas."
   ]
  },
  {
   "cell_type": "markdown",
   "id": "0a0e6ffe-647d-4b90-9dc0-165cd2c9316e",
   "metadata": {},
   "source": [
    "- **¿Hay alguna relación entre el presupuesto para publicidad y las ventas?**\n",
    "\n"
   ]
  },
  {
   "cell_type": "markdown",
   "id": "e9f47a04-4de4-46a6-b7dd-05cd3523604b",
   "metadata": {},
   "source": [
    "Sí hay una relacion entre el presupuesto para publicidad y las ventas, porque el análisis busca comprobar si el dinero invertido en TV, radio, periódico está relacionado con el nivel de ventas."
   ]
  },
  {
   "cell_type": "markdown",
   "id": "730353ab-1719-4c69-abf1-a0b77a88ff71",
   "metadata": {},
   "source": [
    "- **¿Por qué? ¿Qué resultaría si nos diéramos cuenta de la falta de relación entre el presupuesto de publicidad y las ventas?** "
   ]
  },
  {
   "cell_type": "markdown",
   "id": "e4116193-9393-4791-ab5e-451be8027fcd",
   "metadata": {},
   "source": [
    "Si no hubiera relación, significaría que la publicidad no explica las ventas en estos datos, y en ese caso las empresas estarían gastando dinero sin obtener resultados, por lo que tendrían que buscar otros factores que sí influyan."
   ]
  },
  {
   "cell_type": "markdown",
   "id": "9e3c4966-4910-4c59-ab88-d7176701a8a2",
   "metadata": {},
   "source": [
    "- **¿Qué tan fuerte es esta relación? Asumiendo que existe esta relación, ¿nos sirve conocer el impacto que tiene invertir en publicidad en las ventas**\n",
    "\n",
    "La relación es bastante fuerte porque los valores de 𝑅2 y los p-values muestran que la inversión en publicidad sí influye en las ventas. Conocer el impacto sirve porque nos dice cuánto aumentan las ventas al invertir más en cada medio, lo que ayuda a decidir dónde poner mas el presupuesto.\n"
   ]
  },
  {
   "cell_type": "markdown",
   "id": "df462478-b330-48e6-86d8-524da8143d1f",
   "metadata": {},
   "source": [
    "- **¿Cuáles medios están asociados con las ventas? ¿Qué tan grande es la asociación entre un medio específico y las ventas?**\n",
    "\n",
    "Los medios que muestran mayor relación con las ventas son la TV y la radio, ya que tienen coeficientes significativos y p-values bajos. La asociación es más grande en TV, invertir ahí aumenta más las ventas que en los otros medios.\n",
    "\n",
    "- **Hay 3 medios distintos en los datos. ¿Sirve invertir en los 3? ¿Conviene más invertir sólo en uno?**\n",
    "\n",
    "El periódico casi no muestra impacto, mientras que TV y radio sí son rentables. Por eso, conviene concentrar más inversión en TV y radio que repartir en los tres por igual.\n",
    "    \n",
    "- **¿Qué tan seguros estamos de que podríamos predecir ventas futuras?**\n",
    "\n",
    "Podemos tener un buen nivel de confianza porque el modelo explica gran parte de las ventas, pero no es 100% seguro ya que hay otros factores fuera de la publicidad que también influyen, como competencia, cambios en la economia, etc.\n",
    "\n",
    "\n",
    "- **¿La relación es lineal?**\n",
    "\n",
    "Sí, el modelo supone que la relación es lineal, y los datos se ajustan bien a esta idea porque a mayor inversión, mayores ventas, de forma proporcional.\n",
    "\n",
    "\n",
    "- **¿Hay sinergia entre estos medios?**\n",
    "\n",
    "No se observa una sinergia clara en el modelo, no parece que combinar los medios genere un efecto extra más allá de lo que aporta cada uno por separado (TV y radio).\n"
   ]
  },
  {
   "cell_type": "markdown",
   "id": "8a72b870-2174-4ea9-adac-260d6aa97067",
   "metadata": {},
   "source": [
    "## Addendum"
   ]
  },
  {
   "cell_type": "markdown",
   "id": "8dacc515-40ee-4ac8-a6f6-9e1a22b97313",
   "metadata": {},
   "source": [
    "Para calcular los *p-values* de los parámetros sin `statsmodels`:\n",
    "1. Calcular RSS\n",
    "2. Calcular RSE\n",
    "3. `var_beta = np.linalg.inv(X.T @ X) * rse**2` (X con columna de intercepto)\n",
    "4. `std_beta = np.sqrt(var_beta.diagonal())` El orden de los valores corresponde al orden de los factores en las columnas de la matriz $X$.\n",
    "5. Calcular *estadístico t*\n",
    "6. Calcular *p-value*"
   ]
  },
  {
   "cell_type": "markdown",
   "id": "1e4c1a96-484f-4add-ae14-1866b0cb949d",
   "metadata": {},
   "source": [
    "Al utilizar statsmodel esto ya lo hace de forma interna, asi que no es necesario hacerlo a mano, los resultados quedarian igual."
   ]
  }
 ],
 "metadata": {
  "kernelspec": {
   "display_name": "Python 3 (ipykernel)",
   "language": "python",
   "name": "python3"
  },
  "language_info": {
   "codemirror_mode": {
    "name": "ipython",
    "version": 3
   },
   "file_extension": ".py",
   "mimetype": "text/x-python",
   "name": "python",
   "nbconvert_exporter": "python",
   "pygments_lexer": "ipython3",
   "version": "3.12.7"
  }
 },
 "nbformat": 4,
 "nbformat_minor": 5
}
