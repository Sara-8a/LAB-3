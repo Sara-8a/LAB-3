{
 "cells": [
  {
   "cell_type": "markdown",
   "id": "d8fc762d",
   "metadata": {},
   "source": [
    "## Motor Trend Cars ##"
   ]
  },
  {
   "cell_type": "code",
   "execution_count": 1,
   "id": "12614692",
   "metadata": {},
   "outputs": [],
   "source": [
    "import numpy as np\n",
    "from sklearn.linear_model import LinearRegression\n",
    "import matplotlib.pyplot as plt\n",
    "from sklearn.metrics import r2_score\n",
    "import pandas as pd\n",
    "from sklearn.preprocessing import StandardScaler\n",
    "import statsmodels.api as sm\n",
    "from sklearn.model_selection import train_test_split"
   ]
  },
  {
   "cell_type": "code",
   "execution_count": 12,
   "id": "32895814-f9e0-432c-86c1-e47437289972",
   "metadata": {},
   "outputs": [],
   "source": [
    "df = pd.read_excel(\"Motor Trend Car Road Tests.xlsx\")\n"
   ]
  },
  {
   "cell_type": "markdown",
   "id": "ae363f2b-9e16-411b-8c3a-4c5c74714ec9",
   "metadata": {},
   "source": [
    "# Visualizar"
   ]
  },
  {
   "cell_type": "code",
   "execution_count": 13,
   "id": "483e7cef",
   "metadata": {},
   "outputs": [
    {
     "data": {
      "text/html": [
       "<div>\n",
       "<style scoped>\n",
       "    .dataframe tbody tr th:only-of-type {\n",
       "        vertical-align: middle;\n",
       "    }\n",
       "\n",
       "    .dataframe tbody tr th {\n",
       "        vertical-align: top;\n",
       "    }\n",
       "\n",
       "    .dataframe thead th {\n",
       "        text-align: right;\n",
       "    }\n",
       "</style>\n",
       "<table border=\"1\" class=\"dataframe\">\n",
       "  <thead>\n",
       "    <tr style=\"text-align: right;\">\n",
       "      <th></th>\n",
       "      <th>model</th>\n",
       "      <th>mpg</th>\n",
       "      <th>cyl</th>\n",
       "      <th>disp</th>\n",
       "      <th>hp</th>\n",
       "      <th>drat</th>\n",
       "      <th>wt</th>\n",
       "      <th>qsec</th>\n",
       "      <th>vs</th>\n",
       "      <th>am</th>\n",
       "      <th>gear</th>\n",
       "      <th>carb</th>\n",
       "    </tr>\n",
       "  </thead>\n",
       "  <tbody>\n",
       "    <tr>\n",
       "      <th>0</th>\n",
       "      <td>Mazda RX4</td>\n",
       "      <td>21.0</td>\n",
       "      <td>6</td>\n",
       "      <td>160.0</td>\n",
       "      <td>110</td>\n",
       "      <td>3.90</td>\n",
       "      <td>2.620</td>\n",
       "      <td>16.46</td>\n",
       "      <td>0</td>\n",
       "      <td>1</td>\n",
       "      <td>4</td>\n",
       "      <td>4</td>\n",
       "    </tr>\n",
       "    <tr>\n",
       "      <th>1</th>\n",
       "      <td>Mazda RX4 Wag</td>\n",
       "      <td>21.0</td>\n",
       "      <td>6</td>\n",
       "      <td>160.0</td>\n",
       "      <td>110</td>\n",
       "      <td>3.90</td>\n",
       "      <td>2.875</td>\n",
       "      <td>17.02</td>\n",
       "      <td>0</td>\n",
       "      <td>1</td>\n",
       "      <td>4</td>\n",
       "      <td>4</td>\n",
       "    </tr>\n",
       "    <tr>\n",
       "      <th>2</th>\n",
       "      <td>Datsun 710</td>\n",
       "      <td>22.8</td>\n",
       "      <td>4</td>\n",
       "      <td>108.0</td>\n",
       "      <td>93</td>\n",
       "      <td>3.85</td>\n",
       "      <td>2.320</td>\n",
       "      <td>18.61</td>\n",
       "      <td>1</td>\n",
       "      <td>1</td>\n",
       "      <td>4</td>\n",
       "      <td>1</td>\n",
       "    </tr>\n",
       "    <tr>\n",
       "      <th>3</th>\n",
       "      <td>Hornet 4 Drive</td>\n",
       "      <td>21.4</td>\n",
       "      <td>6</td>\n",
       "      <td>258.0</td>\n",
       "      <td>110</td>\n",
       "      <td>3.08</td>\n",
       "      <td>3.215</td>\n",
       "      <td>19.44</td>\n",
       "      <td>1</td>\n",
       "      <td>0</td>\n",
       "      <td>3</td>\n",
       "      <td>1</td>\n",
       "    </tr>\n",
       "    <tr>\n",
       "      <th>4</th>\n",
       "      <td>Hornet Sportabout</td>\n",
       "      <td>18.7</td>\n",
       "      <td>8</td>\n",
       "      <td>360.0</td>\n",
       "      <td>175</td>\n",
       "      <td>3.15</td>\n",
       "      <td>3.440</td>\n",
       "      <td>17.02</td>\n",
       "      <td>0</td>\n",
       "      <td>0</td>\n",
       "      <td>3</td>\n",
       "      <td>2</td>\n",
       "    </tr>\n",
       "  </tbody>\n",
       "</table>\n",
       "</div>"
      ],
      "text/plain": [
       "               model   mpg  cyl   disp   hp  drat     wt   qsec  vs  am  gear  \\\n",
       "0          Mazda RX4  21.0    6  160.0  110  3.90  2.620  16.46   0   1     4   \n",
       "1      Mazda RX4 Wag  21.0    6  160.0  110  3.90  2.875  17.02   0   1     4   \n",
       "2         Datsun 710  22.8    4  108.0   93  3.85  2.320  18.61   1   1     4   \n",
       "3     Hornet 4 Drive  21.4    6  258.0  110  3.08  3.215  19.44   1   0     3   \n",
       "4  Hornet Sportabout  18.7    8  360.0  175  3.15  3.440  17.02   0   0     3   \n",
       "\n",
       "   carb  \n",
       "0     4  \n",
       "1     4  \n",
       "2     1  \n",
       "3     1  \n",
       "4     2  "
      ]
     },
     "execution_count": 13,
     "metadata": {},
     "output_type": "execute_result"
    }
   ],
   "source": [
    "df.head()"
   ]
  },
  {
   "cell_type": "markdown",
   "id": "121dd0ef-f1c5-41f8-ab2c-da77ab442fb5",
   "metadata": {},
   "source": [
    "# Separar"
   ]
  },
  {
   "cell_type": "code",
   "execution_count": 14,
   "id": "7e317d63",
   "metadata": {},
   "outputs": [],
   "source": [
    "xm1=df.drop(columns=['mpg','model'])\n",
    "ym1=df['mpg']\n"
   ]
  },
  {
   "cell_type": "code",
   "execution_count": 15,
   "id": "529f5769",
   "metadata": {},
   "outputs": [],
   "source": [
    "xtrain,xtest,ytrain,ytest=train_test_split(xm1,ym1,train_size=0.4,random_state=137)"
   ]
  },
  {
   "cell_type": "markdown",
   "id": "13ef9a5e-97f3-4c6a-ad6d-2a54e4561f46",
   "metadata": {},
   "source": [
    "# Escalar"
   ]
  },
  {
   "cell_type": "code",
   "execution_count": 16,
   "id": "c72f70da",
   "metadata": {},
   "outputs": [],
   "source": [
    "\n",
    "scaler=StandardScaler().fit(xtrain)\n",
    "xtrain_scaled=scaler.transform(xtrain)\n"
   ]
  },
  {
   "cell_type": "code",
   "execution_count": 17,
   "id": "ffeb5a2b",
   "metadata": {},
   "outputs": [
    {
     "name": "stdout",
     "output_type": "stream",
     "text": [
      "                            OLS Regression Results                            \n",
      "==============================================================================\n",
      "Dep. Variable:                      y   R-squared:                       0.990\n",
      "Model:                            OLS   Adj. R-squared:                  0.891\n",
      "Method:                 Least Squares   F-statistic:                     9.981\n",
      "Date:                Mon, 08 Sep 2025   Prob (F-statistic):              0.242\n",
      "Time:                        17:52:30   Log-Likelihood:                -9.9811\n",
      "No. Observations:                  12   AIC:                             41.96\n",
      "Df Residuals:                       1   BIC:                             47.30\n",
      "Df Model:                          10                                         \n",
      "Covariance Type:            nonrobust                                         \n",
      "==============================================================================\n",
      "                 coef    std err          t      P>|t|      [0.025      0.975]\n",
      "------------------------------------------------------------------------------\n",
      "const         17.4333      0.556     31.361      0.020      10.370      24.497\n",
      "x1            40.7571     54.010      0.755      0.588    -645.499     727.013\n",
      "x2            -2.4635      3.021     -0.815      0.565     -40.854      35.927\n",
      "x3           -10.1581     19.484     -0.521      0.694    -257.727     237.411\n",
      "x4            14.1135     13.469      1.048      0.485    -157.022     185.249\n",
      "x5            -0.8005      3.106     -0.258      0.839     -40.266      38.665\n",
      "x6             1.5727      3.475      0.453      0.729     -42.583      45.729\n",
      "x7            32.4926     41.262      0.787      0.575    -491.795     556.780\n",
      "x8            36.1394     42.669      0.847      0.553    -506.022     578.301\n",
      "x9           -38.3551     43.625     -0.879      0.541    -592.668     515.958\n",
      "x10           11.9707     17.482      0.685      0.618    -210.157     234.098\n",
      "==============================================================================\n",
      "Omnibus:                        0.259   Durbin-Watson:                   2.354\n",
      "Prob(Omnibus):                  0.879   Jarque-Bera (JB):                0.413\n",
      "Skew:                           0.212   Prob(JB):                        0.813\n",
      "Kurtosis:                       2.196   Cond. No.                         382.\n",
      "==============================================================================\n",
      "\n",
      "Notes:\n",
      "[1] Standard Errors assume that the covariance matrix of the errors is correctly specified.\n"
     ]
    },
    {
     "name": "stderr",
     "output_type": "stream",
     "text": [
      "C:\\Users\\luis ramon\\anaconda3\\Lib\\site-packages\\scipy\\stats\\_axis_nan_policy.py:531: UserWarning: kurtosistest only valid for n>=20 ... continuing anyway, n=12\n",
      "  res = hypotest_fun_out(*samples, **kwds)\n"
     ]
    }
   ],
   "source": [
    "x1 = xtrain_scaled.copy()\n",
    "Y1 = ytrain.values\n",
    "\n",
    "x1 = sm.add_constant(x1)  \n",
    "modelo = sm.OLS(Y1, x1)\n",
    "resultados = modelo.fit()\n",
    "\n",
    "print(resultados.summary())"
   ]
  },
  {
   "cell_type": "code",
   "execution_count": 18,
   "id": "58058cc4",
   "metadata": {},
   "outputs": [
    {
     "data": {
      "text/plain": [
       "0.9900805114414537"
      ]
     },
     "execution_count": 18,
     "metadata": {},
     "output_type": "execute_result"
    }
   ],
   "source": [
    "r2_score(ytrain,resultados.predict(x1))"
   ]
  },
  {
   "cell_type": "code",
   "execution_count": 19,
   "id": "fdc9ab80",
   "metadata": {},
   "outputs": [
    {
     "data": {
      "text/plain": [
       "-54.07178520418615"
      ]
     },
     "execution_count": 19,
     "metadata": {},
     "output_type": "execute_result"
    }
   ],
   "source": [
    "xtest_scaled=scaler.transform(xtest)\n",
    "xtest_scaled = sm.add_constant(xtest_scaled)\n",
    "r2_score(ytest, resultados.predict(xtest_scaled))"
   ]
  },
  {
   "cell_type": "code",
   "execution_count": null,
   "id": "4076b05c-a59a-4827-9f6c-befc8e3a601d",
   "metadata": {},
   "outputs": [],
   "source": []
  }
 ],
 "metadata": {
  "kernelspec": {
   "display_name": "Python 3 (ipykernel)",
   "language": "python",
   "name": "python3"
  },
  "language_info": {
   "codemirror_mode": {
    "name": "ipython",
    "version": 3
   },
   "file_extension": ".py",
   "mimetype": "text/x-python",
   "name": "python",
   "nbconvert_exporter": "python",
   "pygments_lexer": "ipython3",
   "version": "3.12.7"
  }
 },
 "nbformat": 4,
 "nbformat_minor": 5
}
